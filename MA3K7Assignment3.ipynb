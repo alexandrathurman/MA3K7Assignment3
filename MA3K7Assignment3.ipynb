{
 "cells": [
  {
   "cell_type": "code",
   "execution_count": 1,
   "id": "9cb3adcc-1ca5-4a3a-a8bc-6e07eb92eac8",
   "metadata": {},
   "outputs": [],
   "source": [
    "import random"
   ]
  },
  {
   "cell_type": "markdown",
   "id": "2c73830d-52f9-4925-ac0f-289de47d7f7e",
   "metadata": {},
   "source": [
    "## Starting with 1,2,3,4"
   ]
  },
  {
   "cell_type": "markdown",
   "id": "6dc7df14-ccfb-41dc-a15d-614a7b2388b0",
   "metadata": {},
   "source": [
    "This code computes all the possible final numbers for this case."
   ]
  },
  {
   "cell_type": "code",
   "execution_count": 2,
   "id": "1286fffe-f3f7-4718-a4e9-7cd1d6d7b731",
   "metadata": {},
   "outputs": [
    {
     "name": "stdout",
     "output_type": "stream",
     "text": [
      "The possible final numbers are: {0, 2, 4}\n"
     ]
    }
   ],
   "source": [
    "def simulate_process(numbers):\n",
    "    if len(numbers) == 1:\n",
    "        return set(numbers)\n",
    "\n",
    "    results = set()\n",
    "    # Generate all combos\n",
    "    for i in range(len(numbers)):\n",
    "        for j in range(i+1, len(numbers)):\n",
    "            # Create a copy of the numbers list and remove the two chosen numbers\n",
    "            new_numbers = list(numbers)\n",
    "            a, b = new_numbers[i], new_numbers[j]\n",
    "            new_numbers.remove(a)\n",
    "            new_numbers.remove(b)\n",
    "            new_numbers.append(abs(a - b))\n",
    "            results |= simulate_process(new_numbers)\n",
    "\n",
    "    return results\n",
    "\n",
    "numbers = [1, 2, 3, 4]\n",
    "final_numbers = simulate_process(numbers)\n",
    "print('The possible final numbers are:',final_numbers)"
   ]
  },
  {
   "cell_type": "markdown",
   "id": "3f80ec9e-ea34-4494-98ab-eda14f7b6216",
   "metadata": {},
   "source": [
    "## Starting with 1 to 2024"
   ]
  },
  {
   "cell_type": "markdown",
   "id": "126920ca-e1eb-4ae1-a9a9-1ee55b1cd4d6",
   "metadata": {},
   "source": [
    "This code simulates one game for this case."
   ]
  },
  {
   "cell_type": "code",
   "execution_count": 3,
   "id": "00531745-4c53-4f2f-acdb-4069ce3fc53e",
   "metadata": {},
   "outputs": [
    {
     "name": "stdout",
     "output_type": "stream",
     "text": [
      "76\n"
     ]
    }
   ],
   "source": [
    "def play_game(numbers):\n",
    "    while len(numbers) > 1:\n",
    "        # Pick two pieces of paper\n",
    "        a, b = random.sample(numbers, 2)\n",
    "        # Remove the picked numbers on those pieces of paper from the hat\n",
    "        numbers.remove(a)\n",
    "        numbers.remove(b)\n",
    "        numbers.append(abs(a - b))\n",
    "    # Return the number on the final piece of paper\n",
    "    return numbers[0]\n",
    "\n",
    "numbers = list(range(1, 2025))\n",
    "final_number = play_game(numbers)\n",
    "print(final_number)"
   ]
  },
  {
   "cell_type": "markdown",
   "id": "acf2827b-dac4-4a0c-b2ac-6c2e315261df",
   "metadata": {},
   "source": [
    "## Starting with:"
   ]
  },
  {
   "cell_type": "markdown",
   "id": "aa22b140-7dc8-40e5-8408-0c4103f19267",
   "metadata": {},
   "source": [
    "### 1,2"
   ]
  },
  {
   "cell_type": "code",
   "execution_count": 4,
   "id": "9d4bc7b0-bbc0-4c66-afc3-108c7f258fc2",
   "metadata": {},
   "outputs": [
    {
     "name": "stdout",
     "output_type": "stream",
     "text": [
      "The possible final numbers are: {1}\n"
     ]
    }
   ],
   "source": [
    "numbers = [1, 2]\n",
    "final_numbers = simulate_process(numbers)\n",
    "print('The possible final numbers are:',final_numbers)"
   ]
  },
  {
   "cell_type": "markdown",
   "id": "810921ef-f910-454a-b4ba-b107aa4d3f0f",
   "metadata": {},
   "source": [
    "### 1,2,3"
   ]
  },
  {
   "cell_type": "code",
   "execution_count": 5,
   "id": "1ad0f30b-aa68-4028-9d76-d1933401459e",
   "metadata": {},
   "outputs": [
    {
     "name": "stdout",
     "output_type": "stream",
     "text": [
      "The possible final numbers are: {0, 2}\n"
     ]
    }
   ],
   "source": [
    "numbers = [1, 2, 3]\n",
    "final_numbers = simulate_process(numbers)\n",
    "print('The possible final numbers are:',final_numbers)"
   ]
  },
  {
   "cell_type": "markdown",
   "id": "5a5819a2-1e76-4f5d-9943-9286e7b22f45",
   "metadata": {},
   "source": [
    "### 1,2,3,4,5"
   ]
  },
  {
   "cell_type": "code",
   "execution_count": 6,
   "id": "4bb47ac0-a6eb-48b5-a661-577608a3bf76",
   "metadata": {},
   "outputs": [
    {
     "name": "stdout",
     "output_type": "stream",
     "text": [
      "The possible final numbers are: {1, 3, 5}\n"
     ]
    }
   ],
   "source": [
    "numbers = [1, 2, 3, 4, 5]\n",
    "final_numbers = simulate_process(numbers)\n",
    "print('The possible final numbers are:',final_numbers)"
   ]
  },
  {
   "cell_type": "markdown",
   "id": "ac476d55-ac7b-482e-8761-7ee132a14c90",
   "metadata": {},
   "source": [
    "## 1,2,3,4,5,6"
   ]
  },
  {
   "cell_type": "code",
   "execution_count": 7,
   "id": "f71475d8-8f96-42a0-b803-46a4ce6b90eb",
   "metadata": {},
   "outputs": [
    {
     "name": "stdout",
     "output_type": "stream",
     "text": [
      "The possible final numbers are: {1, 3, 5}\n"
     ]
    }
   ],
   "source": [
    "numbers = [1, 2, 3, 4, 5, 6]\n",
    "final_numbers = simulate_process(numbers)\n",
    "print('The possible final numbers are:',final_numbers)"
   ]
  },
  {
   "cell_type": "markdown",
   "id": "f77d6bb0-60aa-40da-97a6-a5c86fa17dcd",
   "metadata": {},
   "source": [
    "## Printing the final number"
   ]
  },
  {
   "cell_type": "markdown",
   "id": "6c4848d1-e34c-47e8-9e15-c8cffaebe4bc",
   "metadata": {},
   "source": [
    "This code prints whether the final number will be odd or even for the starting numbers of your choice. This has enabled me to check the pattern for starting numbers greater than 6."
   ]
  },
  {
   "cell_type": "code",
   "execution_count": 9,
   "id": "d0a9ece7-9cf6-424d-9793-c9e2f7aee709",
   "metadata": {},
   "outputs": [
    {
     "name": "stdin",
     "output_type": "stream",
     "text": [
      "What number do you want the starting numbers to go up to?  15\n"
     ]
    },
    {
     "name": "stdout",
     "output_type": "stream",
     "text": [
      "Starting numbers: [1, 2, 3, 4, 5, 6, 7, 8, 9, 10, 11, 12, 13, 14, 15]\n",
      "Number of odd numbers: 8\n",
      "The final number will be even\n"
     ]
    }
   ],
   "source": [
    "# Ask what want the max starting number to be\n",
    "end = int(input(\"What number do you want the starting numbers to go up to? \"))\n",
    "\n",
    "# Define the starting numbers\n",
    "numbers = list(range(1, end+1))\n",
    "\n",
    "# Print the starting numbers\n",
    "print(\"Starting numbers:\", numbers)\n",
    "\n",
    "# Count the number of odd numbers\n",
    "odd_count = len([num for num in numbers if num % 2 != 0])\n",
    "\n",
    "# Print the number of odd numbers\n",
    "print(\"Number of odd numbers:\", odd_count)\n",
    "\n",
    "# Check if the number of odd numbers is odd or even\n",
    "if odd_count % 2 == 0:\n",
    "    print(\"The final number will be even\")\n",
    "else:\n",
    "    print(\"The final number will be odd\")\n"
   ]
  },
  {
   "cell_type": "markdown",
   "id": "e67703bd-1283-4961-90cc-97626505e645",
   "metadata": {},
   "source": [
    "## Final Check"
   ]
  },
  {
   "cell_type": "markdown",
   "id": "40a5a6c6-ba47-472a-a3ed-37c56e359df4",
   "metadata": {},
   "source": [
    "This code checks my answer in a different way."
   ]
  },
  {
   "cell_type": "code",
   "execution_count": 10,
   "id": "430a4bcb-327b-46ba-817f-769a832566ed",
   "metadata": {},
   "outputs": [
    {
     "name": "stdout",
     "output_type": "stream",
     "text": [
      "even\n"
     ]
    }
   ],
   "source": [
    "def label_pair(pair):\n",
    "    # Subtract 1 from the first number in the pair to align the pattern with zero-indexing\n",
    "    index = pair[0] - 1\n",
    "    # If the integer division of the index by 2 is even, return 'odd', else return 'even'\n",
    "    return 'odd' if (index // 2) % 2 == 0 else 'even'\n",
    "\n",
    "# Test the function with the pair (2024, 2025)\n",
    "print(label_pair((2024, 2025)))\n"
   ]
  },
  {
   "cell_type": "code",
   "execution_count": null,
   "id": "2829426c-287d-441b-8be5-6e785322798a",
   "metadata": {},
   "outputs": [],
   "source": []
  }
 ],
 "metadata": {
  "kernelspec": {
   "display_name": "Python 3 (ipykernel)",
   "language": "python",
   "name": "python3"
  },
  "language_info": {
   "codemirror_mode": {
    "name": "ipython",
    "version": 3
   },
   "file_extension": ".py",
   "mimetype": "text/x-python",
   "name": "python",
   "nbconvert_exporter": "python",
   "pygments_lexer": "ipython3",
   "version": "3.9.7"
  }
 },
 "nbformat": 4,
 "nbformat_minor": 5
}
